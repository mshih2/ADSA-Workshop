{
 "cells": [
  {
   "cell_type": "markdown",
   "metadata": {},
   "source": [
    "## Introduction to model stacking using sklearn models\n",
    "\n",
    "#### This workshop uses House Price Data from Kaggle to demonstrate some frequently used machine learning techniques and a model stacking and blending appraoch\n",
    "\n",
    "#### Machine Learning Models Covered:\n",
    "**Sklearn:**   \n",
    "Extra Trees   \n",
    "Random Forest   \n",
    "Lasso Regression   \n",
    "Ridge Kernel Regression\n",
    "    \n",
    "**XGBoost:**   \n",
    "XGBoost (Extreme Gradient Boosting)   \n",
    "\n"
   ]
  },
  {
   "cell_type": "markdown",
   "metadata": {},
   "source": [
    "### Initialization: import required packages   \n",
    "Import the data sctructure and analysis packages"
   ]
  },
  {
   "cell_type": "code",
   "execution_count": 1,
   "metadata": {
    "collapsed": false
   },
   "outputs": [
    {
     "name": "stderr",
     "output_type": "stream",
     "text": [
      "/Users/meichengshih/anaconda/lib/python2.7/site-packages/pandas/computation/__init__.py:19: UserWarning: The installed version of numexpr 2.4.4 is not supported in pandas and will be not be used\n",
      "\n",
      "  UserWarning)\n"
     ]
    }
   ],
   "source": [
    "import pandas as pd\n",
    "import numpy as np"
   ]
  },
  {
   "cell_type": "markdown",
   "metadata": {},
   "source": [
    "Import machine learning models"
   ]
  },
  {
   "cell_type": "code",
   "execution_count": 2,
   "metadata": {
    "collapsed": true
   },
   "outputs": [],
   "source": [
    "from sklearn.kernel_ridge import KernelRidge\n",
    "from sklearn.linear_model import Lasso\n",
    "import xgboost as xgb\n",
    "from sklearn.ensemble import ExtraTreesRegressor\n",
    "from sklearn.ensemble import RandomForestRegressor"
   ]
  },
  {
   "cell_type": "markdown",
   "metadata": {},
   "source": [
    "Import packages related to model ensembling and the other packages"
   ]
  },
  {
   "cell_type": "code",
   "execution_count": 3,
   "metadata": {
    "collapsed": true
   },
   "outputs": [],
   "source": [
    "import time\n",
    "from sklearn.metrics import mean_squared_error\n",
    "from sklearn.cross_validation import KFold"
   ]
  },
  {
   "cell_type": "markdown",
   "metadata": {},
   "source": [
    "Read cleaned data, the data cleaning process will not be discussed in this workshop"
   ]
  },
  {
   "cell_type": "code",
   "execution_count": 4,
   "metadata": {
    "collapsed": false
   },
   "outputs": [],
   "source": [
    "train=pd.read_csv('./train-b.csv',index_col=0)\n",
    "to_pred=pd.read_csv('./test-b.csv',index_col=0)\n",
    "## Read the Log of House Price\n",
    "target=np.log(pd.read_csv('./target.csv',index_col=0, header=None).astype('float32'))"
   ]
  },
  {
   "cell_type": "markdown",
   "metadata": {},
   "source": [
    "Define first layer regressors and their corresponding parameters, the parameters were obtained from Bayesian Optimization based parameter tunning process. We will not discuss the details of parameter tuning today. \n",
    "\n",
    "This example will contain 5 first-layer regressors"
   ]
  },
  {
   "cell_type": "code",
   "execution_count": 5,
   "metadata": {
    "collapsed": false
   },
   "outputs": [],
   "source": [
    "# Define Kernel Rdige Model\n",
    "kr=KernelRidge(alpha=10**(-1.75),gamma=10**(-2.25),kernel='rbf')\n",
    "\n",
    "# Define Lasso Model\n",
    "lasso=Lasso(alpha=10**(-3.65),max_iter=3000)\n",
    "\n",
    "# Define XGBoost Model\n",
    "xgbr=xgb.XGBRegressor(colsample_bytree=0.7,gamma=0.02,learning_rate=0.09,max_depth=4, min_child_weight=1,\n",
    "                      n_estimators=420,reg_alpha=0.1,reg_lambda=0.3,subsample=0.75)\n",
    "\n",
    "# Define Extra Trees Regressor\n",
    "extr=ExtraTreesRegressor(max_depth=28,max_features=0.9,n_estimators=450)\n",
    "\n",
    "# Define Random Forest Regressor\n",
    "rfr=RandomForestRegressor(max_depth=25,max_features=0.35,n_estimators=400,min_samples_leaf=1)\n",
    "\n",
    "# Define a list of regressors\n",
    "frgrs=[kr,lasso,xgbr,extr,rfr] # Kernel Ridge, Lasso, XGBoost, Extra Tress and Random Forest Regressors"
   ]
  },
  {
   "cell_type": "markdown",
   "metadata": {},
   "source": [
    "Generate performance recorded matrix, and the train and test matrix for the second layer regressor"
   ]
  },
  {
   "cell_type": "code",
   "execution_count": 6,
   "metadata": {
    "collapsed": false
   },
   "outputs": [],
   "source": [
    "# Define number of folds used for model stacking\n",
    "nf=10\n",
    "\n",
    "# Record the performance of each fold iteration\n",
    "eval_rec=np.zeros((nf,len(frgrs)))\n",
    "\n",
    "# Record the train and test matrix for second layer regressor at the end of each fold iteration\n",
    "blend_train_temp=np.zeros((train.shape[0]))\n",
    "blend_pred_temp=np.zeros((to_pred.shape[0]))\n",
    "\n",
    "# Record the final train and test matrix for the second layer regressor\n",
    "blend_train=np.zeros((train.shape[0],len(frgrs)))\n",
    "blend_pred=np.zeros((to_pred.shape[0],len(frgrs)))"
   ]
  },
  {
   "cell_type": "markdown",
   "metadata": {},
   "source": [
    "Start model stacking process"
   ]
  },
  {
   "cell_type": "code",
   "execution_count": 7,
   "metadata": {
    "collapsed": false
   },
   "outputs": [
    {
     "name": "stdout",
     "output_type": "stream",
     "text": [
      "1th Regressor\n",
      "(Fold,RMSE,Time)\n",
      "(1, 0.11291202438041688, 0.1387338638305664)\n",
      "(2, 0.15106856514943601, 0.2523078918457031)\n",
      "(3, 0.11669449417574082, 0.3674309253692627)\n",
      "(4, 0.11590257572979983, 0.47429990768432617)\n",
      "(5, 0.11215568277253304, 0.5805749893188477)\n",
      "(6, 0.11936665809154924, 0.6816380023956299)\n",
      "(7, 0.15002056517292528, 0.7912240028381348)\n",
      "(8, 0.14914553328960511, 0.8880949020385742)\n",
      "(9, 0.10074072566456485, 0.9982109069824219)\n",
      "(10, 0.1316759905300397, 1.0983200073242188)\n",
      "2th Regressor\n",
      "(Fold,RMSE,Time)\n",
      "(1, 0.10916659817514504, 1.1314029693603516)\n",
      "(2, 0.15709929913383294, 1.1822500228881836)\n",
      "(3, 0.12137437421615778, 1.2103688716888428)\n",
      "(4, 0.10481506446994894, 1.2379229068756104)\n",
      "(5, 0.10831519530597314, 1.267827033996582)\n",
      "(6, 0.11150363004659929, 1.2963628768920898)\n",
      "(7, 0.16613745426606147, 1.3311879634857178)\n",
      "(8, 0.13230362341255511, 1.3875489234924316)\n",
      "(9, 0.094869849386240407, 1.4212539196014404)\n",
      "(10, 0.1217130506586592, 1.458651065826416)\n",
      "3th Regressor\n",
      "(Fold,RMSE,Time)\n",
      "(1, 0.11674268862602644, 4.577014923095703)\n",
      "(2, 0.15594726082826119, 7.60048508644104)\n",
      "(3, 0.10615331514224643, 10.599148988723755)\n",
      "(4, 0.11750173162264856, 13.60860300064087)\n",
      "(5, 0.11908120487120982, 16.622945070266724)\n",
      "(6, 0.11653645389350868, 19.60634994506836)\n",
      "(7, 0.1175268188012456, 22.607969045639038)\n",
      "(8, 0.13872536446978395, 25.604318857192993)\n",
      "(9, 0.0967307052480013, 28.61115288734436)\n",
      "(10, 0.13728331756337378, 31.566561937332153)\n",
      "4th Regressor\n",
      "(Fold,RMSE,Time)\n",
      "(1, 0.12979073236225103, 43.11575102806091)\n",
      "(2, 0.17442407675398022, 54.54325604438782)\n",
      "(3, 0.12046790289055315, 66.15185689926147)\n",
      "(4, 0.12487614351637767, 77.61016297340393)\n",
      "(5, 0.13060108714271909, 89.15545988082886)\n",
      "(6, 0.14512271613862979, 100.68449401855469)\n",
      "(7, 0.14756322938010927, 112.55894494056702)\n",
      "(8, 0.15949449827606982, 124.01307392120361)\n",
      "(9, 0.10067328576972318, 135.54300594329834)\n",
      "(10, 0.16558169145082854, 147.12405490875244)\n",
      "5th Regressor\n",
      "(Fold,RMSE,Time)\n",
      "(1, 0.12293924816931748, 152.01767206192017)\n",
      "(2, 0.16773868485072141, 157.25093793869019)\n",
      "(3, 0.11677124880975703, 162.6242220401764)\n",
      "(4, 0.12585935389011238, 168.00212001800537)\n",
      "(5, 0.13175596708062243, 173.35898995399475)\n",
      "(6, 0.13225605746983007, 178.43794202804565)\n",
      "(7, 0.13766153069974704, 183.4697859287262)\n",
      "(8, 0.16038128696986945, 188.47281289100647)\n",
      "(9, 0.11239727598775244, 193.51117086410522)\n",
      "(10, 0.14946407528257913, 198.4954080581665)\n"
     ]
    }
   ],
   "source": [
    "## Record strat time\n",
    "stime=time.time()\n",
    "## K-Fold with Shufffle\n",
    "skf = list(KFold(len(target), nf ,shuffle=True))\n",
    "## Loop over all regressors\n",
    "for j, rgr in enumerate(frgrs):\n",
    "    print (str(j+1)+\"th Regressor\")\n",
    "    print (\"(Fold,RMSE,Time)\")\n",
    "    ## Loop over all folds\n",
    "    for i in xrange(nf):\n",
    "        ### For each fold iteration, determine the train and test data based on the generated fold indices\n",
    "        trainind, testind=skf[i]\n",
    "        xtrain, xtest = train.ix[trainind,:], train.ix[testind,:]\n",
    "        ytrain, ytest = target.ix[trainind], target.ix[testind]\n",
    "        ### Converting y into 1d array \n",
    "        ytrain=ytrain.ix[:,1]\n",
    "        ### Train a model with the train data x and y\n",
    "        rgr.fit(xtrain, ytrain)\n",
    "        ### Predict the y of the test data\n",
    "        ytest_pred = rgr.predict(xtest).astype('float32')\n",
    "        ### Record the predicted y of test data\n",
    "        blend_train_temp[testind]=ytest_pred\n",
    "        ### Predict the y of the data that needed to be predicted\n",
    "        pred = rgr.predict(to_pred).astype('float32')\n",
    "        \n",
    "        ### Record the y of the data that needed to be predicted    \n",
    "        if i==0:\n",
    "            blend_pred_temp=pred\n",
    "        else:\n",
    "            blend_pred_temp=blend_pred_temp+pred\n",
    "        \n",
    "        ### Show the performance of a model at each fold iteration and the total time spent\n",
    "        print (i+1, mean_squared_error(ytest,ytest_pred)**0.5, (time.time()-stime))\n",
    "        ### Record the performance of a model at each fold iteration\n",
    "        eval_rec[i,j]=mean_squared_error(ytest,ytest_pred)**0.5\n",
    "    \n",
    "    ### Record the generated train and predict data from each regressor for the second layer regressor\n",
    "    blend_train[:,j]=blend_train_temp\n",
    "    blend_pred[:,j]=blend_pred_temp/float(nf)"
   ]
  },
  {
   "cell_type": "markdown",
   "metadata": {},
   "source": [
    "Check the average performance of each model under all fold iterations"
   ]
  },
  {
   "cell_type": "code",
   "execution_count": 8,
   "metadata": {
    "collapsed": false
   },
   "outputs": [
    {
     "data": {
      "text/plain": [
       "array([ 0.12596828,  0.12272981,  0.12222289,  0.13985954,  0.13572247])"
      ]
     },
     "execution_count": 8,
     "metadata": {},
     "output_type": "execute_result"
    }
   ],
   "source": [
    "eval_rec.mean(axis=0)\n",
    "# 0:Kernel Ridge, 1:Lasso, 2:XGBoost, 3:Extra Tress 4:Random Forest Regressors"
   ]
  },
  {
   "cell_type": "markdown",
   "metadata": {},
   "source": [
    "Set the second layer model"
   ]
  },
  {
   "cell_type": "code",
   "execution_count": 9,
   "metadata": {
    "collapsed": true
   },
   "outputs": [],
   "source": [
    "second_rgr=KernelRidge(alpha=10**(-1.35),\n",
    "            gamma=10**(-1.40),\n",
    "            kernel='rbf')"
   ]
  },
  {
   "cell_type": "markdown",
   "metadata": {},
   "source": [
    "Calculate the performance of second layer regressor, the blending regressor"
   ]
  },
  {
   "cell_type": "code",
   "execution_count": 10,
   "metadata": {
    "collapsed": false
   },
   "outputs": [
    {
     "name": "stdout",
     "output_type": "stream",
     "text": [
      "(1, 0.10949587528933272, 216.913006067276)\n",
      "(2, 0.14426540721462475, 216.97926998138428)\n",
      "(3, 0.11282344918202704, 217.04734897613525)\n",
      "(4, 0.10668201988042315, 217.10916900634766)\n",
      "(5, 0.11126965945107385, 217.1749939918518)\n",
      "(6, 0.11193920455579412, 217.23257899284363)\n",
      "(7, 0.11255934494432465, 217.29558300971985)\n",
      "(8, 0.12891404532935316, 217.35723400115967)\n",
      "(9, 0.099384306031069944, 217.4225468635559)\n",
      "(10, 0.12558551094136983, 217.48767685890198)\n"
     ]
    }
   ],
   "source": [
    "### Generate the performance recording matrix\n",
    "sec_eval_rec=np.zeros((nf))\n",
    "\n",
    "for i in xrange(nf):\n",
    "    ### For each fold iteration, determine the train and test data based on the generated fold indices\n",
    "    trainind, testind=skf[i]\n",
    "    xtrain, xtest = blend_train[trainind,:], blend_train[testind,:]\n",
    "    ytrain, ytest = target.ix[trainind], target.ix[testind]\n",
    "    ### Converting y into 1d array \n",
    "    ytrain=ytrain.ix[:,1]\n",
    "    ### Train a model with the train data x and y\n",
    "    second_rgr.fit(xtrain, ytrain)\n",
    "    ### Predict the y of the test data\n",
    "    ytest_pred = second_rgr.predict(xtest).astype('float32')\n",
    "    ### Show the performance of a model at each fold iteration and the total time spent\n",
    "    print (i+1, mean_squared_error(ytest,ytest_pred)**0.5, (time.time()-stime))\n",
    "    ### Record the performance of a model at each fold iteration\n",
    "    sec_eval_rec[i]=mean_squared_error(ytest,ytest_pred)**0.5"
   ]
  },
  {
   "cell_type": "markdown",
   "metadata": {},
   "source": [
    "Check the performance of second layer classifier"
   ]
  },
  {
   "cell_type": "code",
   "execution_count": 11,
   "metadata": {
    "collapsed": false
   },
   "outputs": [
    {
     "data": {
      "text/plain": [
       "0.11629188228193929"
      ]
     },
     "execution_count": 11,
     "metadata": {},
     "output_type": "execute_result"
    }
   ],
   "source": [
    "sec_eval_rec.mean(axis=0)"
   ]
  },
  {
   "cell_type": "markdown",
   "metadata": {},
   "source": [
    "#### Compare the performances with a bar chart"
   ]
  },
  {
   "cell_type": "code",
   "execution_count": 17,
   "metadata": {
    "collapsed": false
   },
   "outputs": [
    {
     "data": {
      "image/png": "[encoded data removed]",
      "text/plain": [
       "<matplotlib.figure.Figure at 0x11412d9d0>"
      ]
     },
     "metadata": {},
     "output_type": "display_data"
    }
   ],
   "source": [
    "%matplotlib inline\n",
    "import matplotlib.pyplot as plt\n",
    "perf=np.append(eval_rec.mean(axis=0),(sec_eval_rec.mean(axis=0)))\n",
    "index = np.arange(len(perf))\n",
    "objects = ('KR', 'Lasso', 'XGB', 'Extra Tress', 'RF', 'Sec_KR')\n",
    "plt.bar(index, perf, align='center', alpha=0.5)\n",
    "plt.xticks(index, objects)\n",
    "plt.ylabel('RMSE')\n",
    "axes = plt.gca()\n",
    "axes.set_ylim([0.11, 0.14])\n",
    "plt.show()"
   ]
  },
  {
   "cell_type": "markdown",
   "metadata": {},
   "source": [
    "Using Lasso as the second layer classifier"
   ]
  },
  {
   "cell_type": "code",
   "execution_count": 12,
   "metadata": {
    "collapsed": false
   },
   "outputs": [
    {
     "name": "stdout",
     "output_type": "stream",
     "text": [
      "(1, 0.10716281343841634, 223.10286593437195)\n",
      "(2, 0.15245123885883094, 223.1054220199585)\n",
      "(3, 0.10269828876957779, 223.10758590698242)\n",
      "(4, 0.106407040531454, 223.10973000526428)\n",
      "(5, 0.10733733318339661, 223.11270189285278)\n",
      "(6, 0.11069720917390052, 223.11608505249023)\n",
      "(7, 0.13790112528386791, 223.11850500106812)\n",
      "(8, 0.13297518415382717, 223.12064790725708)\n",
      "(9, 0.090050992154706064, 223.12479090690613)\n",
      "(10, 0.12641792457998713, 223.12762594223022)\n"
     ]
    }
   ],
   "source": [
    "second_rgr2=Lasso(alpha=10**(-3.35),max_iter=3000)\n",
    "\n",
    "### Generate the performance recording matrix\n",
    "lasso_sec_eval_rec=np.zeros((nf))\n",
    "\n",
    "for i in xrange(nf):\n",
    "    ### For each fold iteration, determine the train and test data based on the generated fold indices\n",
    "    trainind, testind=skf[i]\n",
    "    xtrain, xtest = blend_train[trainind,:], blend_train[testind,:]\n",
    "    ytrain, ytest = target.ix[trainind], target.ix[testind]\n",
    "    ### Converting y into 1d array \n",
    "    ytrain=ytrain.ix[:,1]\n",
    "    ### Train a model with the train data x and y\n",
    "    second_rgr2.fit(xtrain, ytrain)\n",
    "    ### Predict the y of the test data\n",
    "    ytest_pred = second_rgr2.predict(xtest).astype('float32')\n",
    "    ### Show the performance of a model at each fold iteration and the total time spent\n",
    "    print (i+1, mean_squared_error(ytest,ytest_pred)**0.5, (time.time()-stime))\n",
    "    ### Record the performance of a model at each fold iteration\n",
    "    lasso_sec_eval_rec[i]=mean_squared_error(ytest,ytest_pred)**0.5"
   ]
  },
  {
   "cell_type": "code",
   "execution_count": 13,
   "metadata": {
    "collapsed": false
   },
   "outputs": [
    {
     "data": {
      "text/plain": [
       "0.11740991501279648"
      ]
     },
     "execution_count": 13,
     "metadata": {},
     "output_type": "execute_result"
    }
   ],
   "source": [
    "lasso_sec_eval_rec.mean(axis=0)"
   ]
  },
  {
   "cell_type": "markdown",
   "metadata": {},
   "source": [
    "Using XGBoost as the second layer classifier"
   ]
  },
  {
   "cell_type": "code",
   "execution_count": 14,
   "metadata": {
    "collapsed": false
   },
   "outputs": [
    {
     "name": "stdout",
     "output_type": "stream",
     "text": [
      "(1, 0.11286751649214116, 230.6129229068756)\n",
      "(2, 0.15081574065287254, 230.70890307426453)\n",
      "(3, 0.10702238359412038, 230.80807495117188)\n",
      "(4, 0.1058286645197693, 230.9005959033966)\n",
      "(5, 0.11319395927906727, 230.9901568889618)\n",
      "(6, 0.11939704379422914, 231.08454203605652)\n",
      "(7, 0.12898723630313516, 231.1784119606018)\n",
      "(8, 0.1363778769533176, 231.26709008216858)\n",
      "(9, 0.099487838275625254, 231.3576898574829)\n",
      "(10, 0.13041034921857797, 231.4561529159546)\n"
     ]
    }
   ],
   "source": [
    "second_rgr3=xgb.XGBRegressor(colsample_bytree=0.35,gamma=0.085,learning_rate=0.12,max_depth=5, min_child_weight=5.75,\n",
    "                      n_estimators=520,reg_alpha=0.6,reg_lambda=4.75,subsample=0.25)\n",
    "\n",
    "### Generate the performance recording matrix\n",
    "xgb_sec_eval_rec=np.zeros((nf))\n",
    "\n",
    "for i in xrange(nf):\n",
    "    ### For each fold iteration, determine the train and test data based on the generated fold indices\n",
    "    trainind, testind=skf[i]\n",
    "    xtrain, xtest = blend_train[trainind,:], blend_train[testind,:]\n",
    "    ytrain, ytest = target.ix[trainind], target.ix[testind]\n",
    "    ### Converting y into 1d array \n",
    "    ytrain=ytrain.ix[:,1]\n",
    "    ### Train a model with the train data x and y\n",
    "    second_rgr3.fit(xtrain, ytrain)\n",
    "    ### Predict the y of the test data\n",
    "    ytest_pred = second_rgr3.predict(xtest).astype('float32')\n",
    "    ### Show the performance of a model at each fold iteration and the total time spent\n",
    "    print (i+1, mean_squared_error(ytest,ytest_pred)**0.5, (time.time()-stime))\n",
    "    ### Record the performance of a model at each fold iteration\n",
    "    xgb_sec_eval_rec[i]=mean_squared_error(ytest,ytest_pred)**0.5"
   ]
  },
  {
   "cell_type": "code",
   "execution_count": 15,
   "metadata": {
    "collapsed": false
   },
   "outputs": [
    {
     "data": {
      "text/plain": [
       "0.12043886090828557"
      ]
     },
     "execution_count": 15,
     "metadata": {},
     "output_type": "execute_result"
    }
   ],
   "source": [
    "xgb_sec_eval_rec.mean(axis=0)"
   ]
  },
  {
   "cell_type": "markdown",
   "metadata": {},
   "source": [
    "#### Comparison between the difference models as the second layer regressor, the red line is the best performance of first layer models"
   ]
  },
  {
   "cell_type": "code",
   "execution_count": 19,
   "metadata": {
    "collapsed": false
   },
   "outputs": [
    {
     "data": {
      "image/png": "[encoded data removed]",
      "text/plain": [
       "<matplotlib.figure.Figure at 0x11b120650>"
      ]
     },
     "metadata": {},
     "output_type": "display_data"
    }
   ],
   "source": [
    "perf=np.append((sec_eval_rec.mean(axis=0)),(lasso_sec_eval_rec.mean(axis=0)))\n",
    "perf=np.append(perf,(xgb_sec_eval_rec.mean(axis=0)))\n",
    "index = np.arange(len(perf))\n",
    "objects = ('Sec_KR', 'Sec_Lasso', 'Sec_XGB')\n",
    "plt.bar(index, perf, align='center', alpha=0.5)\n",
    "plt.xticks(index, objects)\n",
    "plt.ylabel('RMSE')\n",
    "axes = plt.gca()\n",
    "axes.set_ylim([0.11, 0.125])\n",
    "plt.axhline(y=0.12222289, color='red')\n",
    "plt.show()"
   ]
  },
  {
   "cell_type": "markdown",
   "metadata": {},
   "source": [
    "#### The reason why KR performs better than Lasso and XGB as the second layer regressor is because KR can deal with the homogeneious inputs better.  Based on this idea, the use of Neural Network as the second layer  is expected to generate a good quality of output too."
   ]
  }
 ],
 "metadata": {
  "anaconda-cloud": {},
  "kernelspec": {
   "display_name": "Python [Root]",
   "language": "python",
   "name": "Python [Root]"
  },
  "language_info": {
   "codemirror_mode": {
    "name": "ipython",
    "version": 2
   },
   "file_extension": ".py",
   "mimetype": "text/x-python",
   "name": "python",
   "nbconvert_exporter": "python",
   "pygments_lexer": "ipython2",
   "version": "2.7.12"
  }
 },
 "nbformat": 4,
 "nbformat_minor": 0
}
